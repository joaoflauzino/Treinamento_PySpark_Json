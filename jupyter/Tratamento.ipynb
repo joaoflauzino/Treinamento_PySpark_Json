{
 "metadata": {
  "language_info": {
   "codemirror_mode": {
    "name": "ipython",
    "version": 3
   },
   "file_extension": ".py",
   "mimetype": "text/x-python",
   "name": "python",
   "nbconvert_exporter": "python",
   "pygments_lexer": "ipython3",
   "version": "3.8.5"
  },
  "orig_nbformat": 2,
  "kernelspec": {
   "name": "python3",
   "display_name": "Python 3",
   "language": "python"
  }
 },
 "nbformat": 4,
 "nbformat_minor": 2,
 "cells": [
  {
   "cell_type": "code",
   "execution_count": 41,
   "metadata": {},
   "outputs": [],
   "source": [
    "from pyspark import SparkContext\n",
    "from pyspark.sql import SparkSession\n",
    "from pyspark.sql.types import *\n",
    "from pyspark.sql import functions as F\n",
    "import json"
   ]
  },
  {
   "source": [
    "## Sessão do Spark"
   ],
   "cell_type": "markdown",
   "metadata": {}
  },
  {
   "cell_type": "code",
   "execution_count": 42,
   "metadata": {},
   "outputs": [],
   "source": [
    "# sc = SparkContext()\n",
    "# spark = SparkSession(sc).builder.appName(\"Treinamento\").getOrCreate()"
   ]
  },
  {
   "source": [
    "## Leitura do json"
   ],
   "cell_type": "markdown",
   "metadata": {}
  },
  {
   "cell_type": "code",
   "execution_count": 43,
   "metadata": {},
   "outputs": [],
   "source": [
    "with open('../dataset/data.json') as f:\n",
    "    json_data = json.dumps(json.load(f))"
   ]
  },
  {
   "cell_type": "code",
   "execution_count": 44,
   "metadata": {},
   "outputs": [],
   "source": [
    "rddjson = sc.parallelize([json_data])\n",
    "df = spark.read.json(rddjson)"
   ]
  },
  {
   "cell_type": "code",
   "execution_count": 45,
   "metadata": {},
   "outputs": [
    {
     "output_type": "stream",
     "name": "stdout",
     "text": [
      "+--------------------+--------------------+------+\n|                data|               links|  meta|\n+--------------------+--------------------+------+\n|[[[[5068536200013...|[https://api.banc...|[1, 1]|\n+--------------------+--------------------+------+\n\n"
     ]
    }
   ],
   "source": [
    "df.show()"
   ]
  },
  {
   "source": [
    "## Tratamento da base"
   ],
   "cell_type": "markdown",
   "metadata": {}
  },
  {
   "cell_type": "code",
   "execution_count": 46,
   "metadata": {},
   "outputs": [],
   "source": [
    "df_tratamento = df.select('data.brand.name', 'data.brand.companies')"
   ]
  },
  {
   "cell_type": "code",
   "execution_count": 47,
   "metadata": {},
   "outputs": [
    {
     "output_type": "stream",
     "name": "stdout",
     "text": [
      "+-------------+--------------------+\n|         name|           companies|\n+-------------+--------------------+\n|Organização A|[[50685362000135,...|\n+-------------+--------------------+\n\n"
     ]
    }
   ],
   "source": [
    "df_tratamento.show()"
   ]
  },
  {
   "cell_type": "code",
   "execution_count": 48,
   "metadata": {},
   "outputs": [],
   "source": [
    "df_tratamento = df_tratamento.withColumn('companies_exploded', F.explode('companies')).drop('companies')"
   ]
  },
  {
   "cell_type": "code",
   "execution_count": 49,
   "metadata": {},
   "outputs": [
    {
     "output_type": "stream",
     "name": "stdout",
     "text": [
      "+-------------+--------------------+\n|         name|  companies_exploded|\n+-------------+--------------------+\n|Organização A|[50685362000135, ...|\n|Organização A|[50685567111135, ...|\n+-------------+--------------------+\n\n"
     ]
    }
   ],
   "source": [
    "df_tratamento.show()"
   ]
  },
  {
   "cell_type": "code",
   "execution_count": 50,
   "metadata": {},
   "outputs": [],
   "source": [
    "df_tratamento = df_tratamento.selectExpr(\n",
    "                        'name as organization',\n",
    "                        'companies_exploded.name as companie_name',\n",
    "                        'companies_exploded.cnpjNumber as companie_cnpj',\n",
    "                        'companies_exploded.urlComplementaryList as companie_urlComplementaryList',\n",
    "                        'companies_exploded.personalCreditCards as companies_personalCreditCards'\n",
    "                        )"
   ]
  },
  {
   "cell_type": "code",
   "execution_count": 51,
   "metadata": {},
   "outputs": [
    {
     "output_type": "stream",
     "name": "stdout",
     "text": [
      "-RECORD 0---------------------------------------------\n organization                  | Organização A        \n companie_name                 | Empresa da Organi... \n companie_cnpj                 | 50685362000135       \n companie_urlComplementaryList | https://empresaa1... \n companies_personalCreditCards | [[[[[Disponibiliz... \n-RECORD 1---------------------------------------------\n organization                  | Organização A        \n companie_name                 | Empresa da Organi... \n companie_cnpj                 | 50685567111135       \n companie_urlComplementaryList | https://empresaa2... \n companies_personalCreditCards | [[[[[Disponibiliz... \n\n"
     ]
    }
   ],
   "source": [
    "df_tratamento.show(vertical = True)"
   ]
  },
  {
   "cell_type": "code",
   "execution_count": 52,
   "metadata": {},
   "outputs": [],
   "source": [
    "df_tratamento = df_tratamento.withColumn('personalCreditCards_exploded', F.explode('companies_personalCreditCards'))"
   ]
  },
  {
   "cell_type": "code",
   "execution_count": 53,
   "metadata": {},
   "outputs": [],
   "source": [
    "df_tratamento = df_tratamento.selectExpr(\n",
    "                        'personalCreditCards_exploded.name as companie_name',\n",
    "                        'personalCreditCards_exploded.identification.product.type as type_card',\n",
    "                        'personalCreditCards_exploded.identification.creditCard.network as network',\n",
    "                        'personalCreditCards_exploded.rewardsProgram.hasRewardProgram',\n",
    "                        'personalCreditCards_exploded.rewardsProgram.rewardProgramInfo',\n",
    "                        'personalCreditCards_exploded.fees.services as services',\n",
    "                        'personalCreditCards_exploded.interest.rates as rates',\n",
    "                        'personalCreditCards_exploded.interest.instalmentRates as instalmentRates',\n",
    "                        'personalCreditCards_exploded.interest.otherCredits as otherCredits',\n",
    "                        'personalCreditCards_exploded.termsConditions.minimumFeeRate as term_minimumFeeRate',\n",
    "                        'personalCreditCards_exploded.termsConditions.additionalInfo as term_additionalInfo',\n",
    "                        'personalCreditCards_exploded.termsConditions.elegibilityCriteriaInfo as term_elegibilityCriteriaInfo',\n",
    "                        'personalCreditCards_exploded.termsConditions.closingProcessInfo as term_closingProcessInfo'\n",
    "\n",
    ")"
   ]
  },
  {
   "cell_type": "code",
   "execution_count": 54,
   "metadata": {},
   "outputs": [
    {
     "output_type": "stream",
     "name": "stdout",
     "text": [
      "-RECORD 0--------------------------------------------------------------------------------------------------------------------------------------------------------------------------------------------------------------------------------------------------------------------------------------------------------------------------------------------------------------------------------------------------------------------------------------------------\n companie_name                | Cartão Universitário                                                                                                                                                                                                                                                                                                                                                                                                       \n type_card                    | CLASSIC_NACIONAL                                                                                                                                                                                                                                                                                                                                                                                                           \n network                      | VISA                                                                                                                                                                                                                                                                                                                                                                                                                       \n hasRewardProgram             | true                                                                                                                                                                                                                                                                                                                                                                                                                       \n rewardProgramInfo            | https://empresaa1.com/credit_cards_rewards                                                                                                                                                                                                                                                                                                                                                                                 \n services                     | [[Disponibilização de rede de estabelecimentos afiliados, instalada no País, para pagamentos de bens e serviços, cobrada no máximo uma vez a cada doze meses, admitido o parcelamento da cobrança., ANUIDADE_NACIONAL, [BRL, 72.00], [BRL, 19.50], ANUIDADE_CARTAO_BASICO_NACIONAL, [[BRL, [0.1500], 1_FAIXA, 20.00], [BRL, [0.3500], 2_FAIXA, 35.00], [BRL, [0.2000], 3_FAIXA, 55.00], [BRL, [0.3000], 4_FAIXA, 69.00]]]] \n rates                        | [[[[[0.1500], [0.0987], 1_FAIXA], [[0.3500], [0.1600], 2_FAIXA], [[0.2000], [0.3600], 3_FAIXA], [[0.3000], [0.5890], 4_FAIXA]], 0.9000, 0.0845, NA, PRE_FIXADO]]                                                                                                                                                                                                                                                           \n instalmentRates              | [[[[[0.1500], [0.0987], 1_FAIXA], [[0.3500], [0.1600], 2_FAIXA], [[0.2000], [0.3600], 3_FAIXA], [[0.3000], [0.5890], 4_FAIXA]], 0.0865, 0.0456, NA, PRE_FIXADO]]                                                                                                                                                                                                                                                           \n otherCredits                 | [[SAQUE_A_CREDITO], [PAGAMENTOS_CONTAS]]                                                                                                                                                                                                                                                                                                                                                                                   \n term_minimumFeeRate          | 0.30                                                                                                                                                                                                                                                                                                                                                                                                                       \n term_additionalInfo          | NA                                                                                                                                                                                                                                                                                                                                                                                                                         \n term_elegibilityCriteriaInfo | https://empresaa1.com/creditcards_elegibility_criteria                                                                                                                                                                                                                                                                                                                                                                     \n term_closingProcessInfo      | https://empresaa1.com/creditcards_closing_process                                                                                                                                                                                                                                                                                                                                                                          \n-RECORD 1--------------------------------------------------------------------------------------------------------------------------------------------------------------------------------------------------------------------------------------------------------------------------------------------------------------------------------------------------------------------------------------------------------------------------------------------------\n companie_name                | Cartão Universitário                                                                                                                                                                                                                                                                                                                                                                                                       \n type_card                    | CLASSIC_NACIONAL                                                                                                                                                                                                                                                                                                                                                                                                           \n network                      | VISA                                                                                                                                                                                                                                                                                                                                                                                                                       \n hasRewardProgram             | true                                                                                                                                                                                                                                                                                                                                                                                                                       \n rewardProgramInfo            | https://empresaa1.com/credit_cards_rewards                                                                                                                                                                                                                                                                                                                                                                                 \n services                     | [[Disponibilização de rede de estabelecimentos afiliados, instalada no País, para pagamentos de bens e serviços, cobrada no máximo uma vez a cada doze meses, admitido o parcelamento da cobrança., ANUIDADE_NACIONAL, [BRL, 55.00], [BRL, 10.00], ANUIDADE_CARTAO_BASICO_NACIONAL, [[BRL, [0.1500], 1_FAIXA, 40.00], [BRL, [0.3500], 2_FAIXA, 10.00], [BRL, [0.2000], 3_FAIXA, 55.00], [BRL, [0.3000], 4_FAIXA, 33.00]]]] \n rates                        | [[[[[0.1000], [0.0970], 1_FAIXA], [[0.3700], [0.1300], 2_FAIXA], [[0.2100], [0.3200], 3_FAIXA], [[0.3200], [0.5490], 4_FAIXA]], 0.9100, 0.0835, NA, PRE_FIXADO]]                                                                                                                                                                                                                                                           \n instalmentRates              | [[[[[0.1500], [0.0987], 1_FAIXA], [[0.3500], [0.1600], 2_FAIXA], [[0.2000], [0.3600], 3_FAIXA], [[0.3000], [0.5890], 4_FAIXA]], 0.0865, 0.0456, NA, PRE_FIXADO]]                                                                                                                                                                                                                                                           \n otherCredits                 | [[SAQUE_A_CREDITO], [PAGAMENTOS_CONTAS]]                                                                                                                                                                                                                                                                                                                                                                                   \n term_minimumFeeRate          | 0.30                                                                                                                                                                                                                                                                                                                                                                                                                       \n term_additionalInfo          | NA                                                                                                                                                                                                                                                                                                                                                                                                                         \n term_elegibilityCriteriaInfo | https://empresaa1.com/creditcards_elegibility_criteria                                                                                                                                                                                                                                                                                                                                                                     \n term_closingProcessInfo      | https://empresaa1.com/creditcards_closing_process                                                                                                                                                                                                                                                                                                                                                                          \n\n"
     ]
    }
   ],
   "source": [
    "df_tratamento.show(truncate = False, vertical = True)"
   ]
  },
  {
   "cell_type": "code",
   "execution_count": 55,
   "metadata": {},
   "outputs": [],
   "source": [
    "df_tratamento = df_tratamento.withColumn('services_exploded', F.explode('services')) \\\n",
    "             .withColumn('rates_exploded', F.explode('rates')) \\\n",
    "             .withColumn('instalmentRates_exploded', F.explode('instalmentRates')) \\\n",
    "             .withColumn('otherCredits_exploded', F.explode('otherCredits')) \\\n",
    "             .drop('services', 'rates', 'instalmentRates', 'otherCredits')"
   ]
  },
  {
   "cell_type": "code",
   "execution_count": 56,
   "metadata": {
    "tags": [
     "outputPrepend"
    ]
   },
   "outputs": [
    {
     "output_type": "stream",
     "name": "stdout",
     "text": [
      "20.00], [BRL, [0.3500], 2_FAIXA, 35.00], [BRL, [0.2000], 3_FAIXA, 55.00], [BRL, [0.3000], 4_FAIXA, 69.00]]] \n rates_exploded               | [[[[0.1500], [0.0987], 1_FAIXA], [[0.3500], [0.1600], 2_FAIXA], [[0.2000], [0.3600], 3_FAIXA], [[0.3000], [0.5890], 4_FAIXA]], 0.9000, 0.0845, NA, PRE_FIXADO]                                                                                                                                                                                                                                                           \n instalmentRates_exploded     | [[[[0.1500], [0.0987], 1_FAIXA], [[0.3500], [0.1600], 2_FAIXA], [[0.2000], [0.3600], 3_FAIXA], [[0.3000], [0.5890], 4_FAIXA]], 0.0865, 0.0456, NA, PRE_FIXADO]                                                                                                                                                                                                                                                           \n otherCredits_exploded        | [SAQUE_A_CREDITO]                                                                                                                                                                                                                                                                                                                                                                                                        \n-RECORD 1------------------------------------------------------------------------------------------------------------------------------------------------------------------------------------------------------------------------------------------------------------------------------------------------------------------------------------------------------------------------------------------------------------------------------------------------\n companie_name                | Cartão Universitário                                                                                                                                                                                                                                                                                                                                                                                                     \n type_card                    | CLASSIC_NACIONAL                                                                                                                                                                                                                                                                                                                                                                                                         \n network                      | VISA                                                                                                                                                                                                                                                                                                                                                                                                                     \n hasRewardProgram             | true                                                                                                                                                                                                                                                                                                                                                                                                                     \n rewardProgramInfo            | https://empresaa1.com/credit_cards_rewards                                                                                                                                                                                                                                                                                                                                                                               \n term_minimumFeeRate          | 0.30                                                                                                                                                                                                                                                                                                                                                                                                                     \n term_additionalInfo          | NA                                                                                                                                                                                                                                                                                                                                                                                                                       \n term_elegibilityCriteriaInfo | https://empresaa1.com/creditcards_elegibility_criteria                                                                                                                                                                                                                                                                                                                                                                   \n term_closingProcessInfo      | https://empresaa1.com/creditcards_closing_process                                                                                                                                                                                                                                                                                                                                                                        \n services_exploded            | [Disponibilização de rede de estabelecimentos afiliados, instalada no País, para pagamentos de bens e serviços, cobrada no máximo uma vez a cada doze meses, admitido o parcelamento da cobrança., ANUIDADE_NACIONAL, [BRL, 72.00], [BRL, 19.50], ANUIDADE_CARTAO_BASICO_NACIONAL, [[BRL, [0.1500], 1_FAIXA, 20.00], [BRL, [0.3500], 2_FAIXA, 35.00], [BRL, [0.2000], 3_FAIXA, 55.00], [BRL, [0.3000], 4_FAIXA, 69.00]]] \n rates_exploded               | [[[[0.1500], [0.0987], 1_FAIXA], [[0.3500], [0.1600], 2_FAIXA], [[0.2000], [0.3600], 3_FAIXA], [[0.3000], [0.5890], 4_FAIXA]], 0.9000, 0.0845, NA, PRE_FIXADO]                                                                                                                                                                                                                                                           \n instalmentRates_exploded     | [[[[0.1500], [0.0987], 1_FAIXA], [[0.3500], [0.1600], 2_FAIXA], [[0.2000], [0.3600], 3_FAIXA], [[0.3000], [0.5890], 4_FAIXA]], 0.0865, 0.0456, NA, PRE_FIXADO]                                                                                                                                                                                                                                                           \n otherCredits_exploded        | [PAGAMENTOS_CONTAS]                                                                                                                                                                                                                                                                                                                                                                                                      \n-RECORD 2------------------------------------------------------------------------------------------------------------------------------------------------------------------------------------------------------------------------------------------------------------------------------------------------------------------------------------------------------------------------------------------------------------------------------------------------\n companie_name                | Cartão Universitário                                                                                                                                                                                                                                                                                                                                                                                                     \n type_card                    | CLASSIC_NACIONAL                                                                                                                                                                                                                                                                                                                                                                                                         \n network                      | VISA                                                                                                                                                                                                                                                                                                                                                                                                                     \n hasRewardProgram             | true                                                                                                                                                                                                                                                                                                                                                                                                                     \n rewardProgramInfo            | https://empresaa1.com/credit_cards_rewards                                                                                                                                                                                                                                                                                                                                                                               \n term_minimumFeeRate          | 0.30                                                                                                                                                                                                                                                                                                                                                                                                                     \n term_additionalInfo          | NA                                                                                                                                                                                                                                                                                                                                                                                                                       \n term_elegibilityCriteriaInfo | https://empresaa1.com/creditcards_elegibility_criteria                                                                                                                                                                                                                                                                                                                                                                   \n term_closingProcessInfo      | https://empresaa1.com/creditcards_closing_process                                                                                                                                                                                                                                                                                                                                                                        \n services_exploded            | [Disponibilização de rede de estabelecimentos afiliados, instalada no País, para pagamentos de bens e serviços, cobrada no máximo uma vez a cada doze meses, admitido o parcelamento da cobrança., ANUIDADE_NACIONAL, [BRL, 55.00], [BRL, 10.00], ANUIDADE_CARTAO_BASICO_NACIONAL, [[BRL, [0.1500], 1_FAIXA, 40.00], [BRL, [0.3500], 2_FAIXA, 10.00], [BRL, [0.2000], 3_FAIXA, 55.00], [BRL, [0.3000], 4_FAIXA, 33.00]]] \n rates_exploded               | [[[[0.1000], [0.0970], 1_FAIXA], [[0.3700], [0.1300], 2_FAIXA], [[0.2100], [0.3200], 3_FAIXA], [[0.3200], [0.5490], 4_FAIXA]], 0.9100, 0.0835, NA, PRE_FIXADO]                                                                                                                                                                                                                                                           \n instalmentRates_exploded     | [[[[0.1500], [0.0987], 1_FAIXA], [[0.3500], [0.1600], 2_FAIXA], [[0.2000], [0.3600], 3_FAIXA], [[0.3000], [0.5890], 4_FAIXA]], 0.0865, 0.0456, NA, PRE_FIXADO]                                                                                                                                                                                                                                                           \n otherCredits_exploded        | [SAQUE_A_CREDITO]                                                                                                                                                                                                                                                                                                                                                                                                        \n-RECORD 3------------------------------------------------------------------------------------------------------------------------------------------------------------------------------------------------------------------------------------------------------------------------------------------------------------------------------------------------------------------------------------------------------------------------------------------------\n companie_name                | Cartão Universitário                                                                                                                                                                                                                                                                                                                                                                                                     \n type_card                    | CLASSIC_NACIONAL                                                                                                                                                                                                                                                                                                                                                                                                         \n network                      | VISA                                                                                                                                                                                                                                                                                                                                                                                                                     \n hasRewardProgram             | true                                                                                                                                                                                                                                                                                                                                                                                                                     \n rewardProgramInfo            | https://empresaa1.com/credit_cards_rewards                                                                                                                                                                                                                                                                                                                                                                               \n term_minimumFeeRate          | 0.30                                                                                                                                                                                                                                                                                                                                                                                                                     \n term_additionalInfo          | NA                                                                                                                                                                                                                                                                                                                                                                                                                       \n term_elegibilityCriteriaInfo | https://empresaa1.com/creditcards_elegibility_criteria                                                                                                                                                                                                                                                                                                                                                                   \n term_closingProcessInfo      | https://empresaa1.com/creditcards_closing_process                                                                                                                                                                                                                                                                                                                                                                        \n services_exploded            | [Disponibilização de rede de estabelecimentos afiliados, instalada no País, para pagamentos de bens e serviços, cobrada no máximo uma vez a cada doze meses, admitido o parcelamento da cobrança., ANUIDADE_NACIONAL, [BRL, 55.00], [BRL, 10.00], ANUIDADE_CARTAO_BASICO_NACIONAL, [[BRL, [0.1500], 1_FAIXA, 40.00], [BRL, [0.3500], 2_FAIXA, 10.00], [BRL, [0.2000], 3_FAIXA, 55.00], [BRL, [0.3000], 4_FAIXA, 33.00]]] \n rates_exploded               | [[[[0.1000], [0.0970], 1_FAIXA], [[0.3700], [0.1300], 2_FAIXA], [[0.2100], [0.3200], 3_FAIXA], [[0.3200], [0.5490], 4_FAIXA]], 0.9100, 0.0835, NA, PRE_FIXADO]                                                                                                                                                                                                                                                           \n instalmentRates_exploded     | [[[[0.1500], [0.0987], 1_FAIXA], [[0.3500], [0.1600], 2_FAIXA], [[0.2000], [0.3600], 3_FAIXA], [[0.3000], [0.5890], 4_FAIXA]], 0.0865, 0.0456, NA, PRE_FIXADO]                                                                                                                                                                                                                                                           \n otherCredits_exploded        | [PAGAMENTOS_CONTAS]                                                                                                                                                                                                                                                                                                                                                                                                      \n\n"
     ]
    }
   ],
   "source": [
    "df_tratamento.show(truncate = False, vertical = True)"
   ]
  },
  {
   "cell_type": "code",
   "execution_count": 57,
   "metadata": {},
   "outputs": [],
   "source": [
    "df_tratamento = df_tratamento.selectExpr(\n",
    "                        '*',\n",
    "                        'services_exploded.name as name_services',\n",
    "                        'services_exploded.code as code_services',\n",
    "                        'services_exploded.chargingTriggerInfo as chargingTriggerInfo_services',\n",
    "                        'services_exploded.prices as prices_services',\n",
    "                        'services_exploded.minimum.value as value_mini_services',\n",
    "                        'services_exploded.minimum.currency as currency__mini_services',\n",
    "                        'services_exploded.maximum.value as value_max_services',\n",
    "                        'services_exploded.maximum.currency as currency_max_services',\n",
    "                        'rates_exploded.referentialRateIndexer as referentialRateIndexer_rates',\n",
    "                        'rates_exploded.rate as rate_rates',\n",
    "                        'rates_exploded.applications as applications_rates',\n",
    "                        'rates_exploded.minimumRate as rates_minimumRate',\n",
    "                        'rates_exploded.maximumRate as rates_maximumRate',\n",
    "                        'instalmentRates_exploded.referentialRateIndexer as referentialRateIndexer_instalmentRates',\n",
    "                        'instalmentRates_exploded.rate as rate_instalmentRates',\n",
    "                        'instalmentRates_exploded.applications as applications_instalmentRates',\n",
    "                        'instalmentRates_exploded.minimumRate as instalmentRates_minimumRate',\n",
    "                        'instalmentRates_exploded.maximumRate as instalmentRates_maximumRate',\n",
    "                        'otherCredits_exploded.code otherCredits'\n",
    "    \n",
    "    ).drop('services_exploded', 'rates_exploded', 'instalmentRates_exploded', 'otherCredits_exploded')"
   ]
  },
  {
   "cell_type": "code",
   "execution_count": 58,
   "metadata": {},
   "outputs": [
    {
     "output_type": "stream",
     "name": "stdout",
     "text": [
      "-RECORD 0------------------------------------------------------\n companie_name                          | Cartão Universitário \n type_card                              | CLASSIC_NACIONAL     \n network                                | VISA                 \n hasRewardProgram                       | true                 \n rewardProgramInfo                      | https://empresaa1... \n term_minimumFeeRate                    | 0.30                 \n term_additionalInfo                    | NA                   \n term_elegibilityCriteriaInfo           | https://empresaa1... \n term_closingProcessInfo                | https://empresaa1... \n name_services                          | ANUIDADE_CARTAO_B... \n code_services                          | ANUIDADE_NACIONAL    \n chargingTriggerInfo_services           | Disponibilização ... \n prices_services                        | [[BRL, [0.1500], ... \n value_mini_services                    | 19.50                \n currency__mini_services                | BRL                  \n value_max_services                     | 72.00                \n currency_max_services                  | BRL                  \n referentialRateIndexer_rates           | PRE_FIXADO           \n rate_rates                             | NA                   \n applications_rates                     | [[[0.1500], [0.09... \n rates_minimumRate                      | 0.0845               \n rates_maximumRate                      | 0.9000               \n referentialRateIndexer_instalmentRates | PRE_FIXADO           \n rate_instalmentRates                   | NA                   \n applications_instalmentRates           | [[[0.1500], [0.09... \n instalmentRates_minimumRate            | 0.0456               \n instalmentRates_maximumRate            | 0.0865               \n otherCredits                           | SAQUE_A_CREDITO      \n-RECORD 1------------------------------------------------------\n companie_name                          | Cartão Universitário \n type_card                              | CLASSIC_NACIONAL     \n network                                | VISA                 \n hasRewardProgram                       | true                 \n rewardProgramInfo                      | https://empresaa1... \n term_minimumFeeRate                    | 0.30                 \n term_additionalInfo                    | NA                   \n term_elegibilityCriteriaInfo           | https://empresaa1... \n term_closingProcessInfo                | https://empresaa1... \n name_services                          | ANUIDADE_CARTAO_B... \n code_services                          | ANUIDADE_NACIONAL    \n chargingTriggerInfo_services           | Disponibilização ... \n prices_services                        | [[BRL, [0.1500], ... \n value_mini_services                    | 19.50                \n currency__mini_services                | BRL                  \n value_max_services                     | 72.00                \n currency_max_services                  | BRL                  \n referentialRateIndexer_rates           | PRE_FIXADO           \n rate_rates                             | NA                   \n applications_rates                     | [[[0.1500], [0.09... \n rates_minimumRate                      | 0.0845               \n rates_maximumRate                      | 0.9000               \n referentialRateIndexer_instalmentRates | PRE_FIXADO           \n rate_instalmentRates                   | NA                   \n applications_instalmentRates           | [[[0.1500], [0.09... \n instalmentRates_minimumRate            | 0.0456               \n instalmentRates_maximumRate            | 0.0865               \n otherCredits                           | PAGAMENTOS_CONTAS    \n-RECORD 2------------------------------------------------------\n companie_name                          | Cartão Universitário \n type_card                              | CLASSIC_NACIONAL     \n network                                | VISA                 \n hasRewardProgram                       | true                 \n rewardProgramInfo                      | https://empresaa1... \n term_minimumFeeRate                    | 0.30                 \n term_additionalInfo                    | NA                   \n term_elegibilityCriteriaInfo           | https://empresaa1... \n term_closingProcessInfo                | https://empresaa1... \n name_services                          | ANUIDADE_CARTAO_B... \n code_services                          | ANUIDADE_NACIONAL    \n chargingTriggerInfo_services           | Disponibilização ... \n prices_services                        | [[BRL, [0.1500], ... \n value_mini_services                    | 10.00                \n currency__mini_services                | BRL                  \n value_max_services                     | 55.00                \n currency_max_services                  | BRL                  \n referentialRateIndexer_rates           | PRE_FIXADO           \n rate_rates                             | NA                   \n applications_rates                     | [[[0.1000], [0.09... \n rates_minimumRate                      | 0.0835               \n rates_maximumRate                      | 0.9100               \n referentialRateIndexer_instalmentRates | PRE_FIXADO           \n rate_instalmentRates                   | NA                   \n applications_instalmentRates           | [[[0.1500], [0.09... \n instalmentRates_minimumRate            | 0.0456               \n instalmentRates_maximumRate            | 0.0865               \n otherCredits                           | SAQUE_A_CREDITO      \n-RECORD 3------------------------------------------------------\n companie_name                          | Cartão Universitário \n type_card                              | CLASSIC_NACIONAL     \n network                                | VISA                 \n hasRewardProgram                       | true                 \n rewardProgramInfo                      | https://empresaa1... \n term_minimumFeeRate                    | 0.30                 \n term_additionalInfo                    | NA                   \n term_elegibilityCriteriaInfo           | https://empresaa1... \n term_closingProcessInfo                | https://empresaa1... \n name_services                          | ANUIDADE_CARTAO_B... \n code_services                          | ANUIDADE_NACIONAL    \n chargingTriggerInfo_services           | Disponibilização ... \n prices_services                        | [[BRL, [0.1500], ... \n value_mini_services                    | 10.00                \n currency__mini_services                | BRL                  \n value_max_services                     | 55.00                \n currency_max_services                  | BRL                  \n referentialRateIndexer_rates           | PRE_FIXADO           \n rate_rates                             | NA                   \n applications_rates                     | [[[0.1000], [0.09... \n rates_minimumRate                      | 0.0835               \n rates_maximumRate                      | 0.9100               \n referentialRateIndexer_instalmentRates | PRE_FIXADO           \n rate_instalmentRates                   | NA                   \n applications_instalmentRates           | [[[0.1500], [0.09... \n instalmentRates_minimumRate            | 0.0456               \n instalmentRates_maximumRate            | 0.0865               \n otherCredits                           | PAGAMENTOS_CONTAS    \n\n"
     ]
    }
   ],
   "source": [
    "df_tratamento.show(vertical = True)"
   ]
  },
  {
   "cell_type": "code",
   "execution_count": 59,
   "metadata": {},
   "outputs": [],
   "source": [
    "df_tratamento = df_tratamento.withColumn('prices_services_exploded', F.explode('prices_services')) \\\n",
    "             .withColumn('applications_rates_exploded', F.explode('applications_rates')) \\\n",
    "             .withColumn('applications_instalmentRates_exploded', F.explode('applications_instalmentRates')) \\\n",
    "             .drop('prices_services', 'applications_rates', 'applications_instalmentRates')\n",
    "             "
   ]
  },
  {
   "cell_type": "code",
   "execution_count": 60,
   "metadata": {
    "tags": [
     "outputPrepend"
    ]
   },
   "outputs": [
    {
     "output_type": "stream",
     "name": "stdout",
     "text": [
      "                                                                                                                                                     \n network                                | VISA                                                                                                                                                                                             \n hasRewardProgram                       | true                                                                                                                                                                                             \n rewardProgramInfo                      | https://empresaa1.com/credit_cards_rewards                                                                                                                                                       \n term_minimumFeeRate                    | 0.30                                                                                                                                                                                             \n term_additionalInfo                    | NA                                                                                                                                                                                               \n term_elegibilityCriteriaInfo           | https://empresaa1.com/creditcards_elegibility_criteria                                                                                                                                           \n term_closingProcessInfo                | https://empresaa1.com/creditcards_closing_process                                                                                                                                                \n name_services                          | ANUIDADE_CARTAO_BASICO_NACIONAL                                                                                                                                                                  \n code_services                          | ANUIDADE_NACIONAL                                                                                                                                                                                \n chargingTriggerInfo_services           | Disponibilização de rede de estabelecimentos afiliados, instalada no País, para pagamentos de bens e serviços, cobrada no máximo uma vez a cada doze meses, admitido o parcelamento da cobrança. \n value_mini_services                    | 19.50                                                                                                                                                                                            \n currency__mini_services                | BRL                                                                                                                                                                                              \n value_max_services                     | 72.00                                                                                                                                                                                            \n currency_max_services                  | BRL                                                                                                                                                                                              \n referentialRateIndexer_rates           | PRE_FIXADO                                                                                                                                                                                       \n rate_rates                             | NA                                                                                                                                                                                               \n rates_minimumRate                      | 0.0845                                                                                                                                                                                           \n rates_maximumRate                      | 0.9000                                                                                                                                                                                           \n referentialRateIndexer_instalmentRates | PRE_FIXADO                                                                                                                                                                                       \n rate_instalmentRates                   | NA                                                                                                                                                                                               \n instalmentRates_minimumRate            | 0.0456                                                                                                                                                                                           \n instalmentRates_maximumRate            | 0.0865                                                                                                                                                                                           \n otherCredits                           | SAQUE_A_CREDITO                                                                                                                                                                                  \n prices_services_exploded               | [BRL, [0.3500], 2_FAIXA, 35.00]                                                                                                                                                                  \n applications_rates_exploded            | [[0.1500], [0.0987], 1_FAIXA]                                                                                                                                                                    \n applications_instalmentRates_exploded  | [[0.3500], [0.1600], 2_FAIXA]                                                                                                                                                                    \n-RECORD 18---------------------------------------------------------------------------------------------------------------------------------------------------------------------------------------------------------------------------------\n companie_name                          | Cartão Universitário                                                                                                                                                                             \n type_card                              | CLASSIC_NACIONAL                                                                                                                                                                                 \n network                                | VISA                                                                                                                                                                                             \n hasRewardProgram                       | true                                                                                                                                                                                             \n rewardProgramInfo                      | https://empresaa1.com/credit_cards_rewards                                                                                                                                                       \n term_minimumFeeRate                    | 0.30                                                                                                                                                                                             \n term_additionalInfo                    | NA                                                                                                                                                                                               \n term_elegibilityCriteriaInfo           | https://empresaa1.com/creditcards_elegibility_criteria                                                                                                                                           \n term_closingProcessInfo                | https://empresaa1.com/creditcards_closing_process                                                                                                                                                \n name_services                          | ANUIDADE_CARTAO_BASICO_NACIONAL                                                                                                                                                                  \n code_services                          | ANUIDADE_NACIONAL                                                                                                                                                                                \n chargingTriggerInfo_services           | Disponibilização de rede de estabelecimentos afiliados, instalada no País, para pagamentos de bens e serviços, cobrada no máximo uma vez a cada doze meses, admitido o parcelamento da cobrança. \n value_mini_services                    | 19.50                                                                                                                                                                                            \n currency__mini_services                | BRL                                                                                                                                                                                              \n value_max_services                     | 72.00                                                                                                                                                                                            \n currency_max_services                  | BRL                                                                                                                                                                                              \n referentialRateIndexer_rates           | PRE_FIXADO                                                                                                                                                                                       \n rate_rates                             | NA                                                                                                                                                                                               \n rates_minimumRate                      | 0.0845                                                                                                                                                                                           \n rates_maximumRate                      | 0.9000                                                                                                                                                                                           \n referentialRateIndexer_instalmentRates | PRE_FIXADO                                                                                                                                                                                       \n rate_instalmentRates                   | NA                                                                                                                                                                                               \n instalmentRates_minimumRate            | 0.0456                                                                                                                                                                                           \n instalmentRates_maximumRate            | 0.0865                                                                                                                                                                                           \n otherCredits                           | SAQUE_A_CREDITO                                                                                                                                                                                  \n prices_services_exploded               | [BRL, [0.3500], 2_FAIXA, 35.00]                                                                                                                                                                  \n applications_rates_exploded            | [[0.1500], [0.0987], 1_FAIXA]                                                                                                                                                                    \n applications_instalmentRates_exploded  | [[0.2000], [0.3600], 3_FAIXA]                                                                                                                                                                    \n-RECORD 19---------------------------------------------------------------------------------------------------------------------------------------------------------------------------------------------------------------------------------\n companie_name                          | Cartão Universitário                                                                                                                                                                             \n type_card                              | CLASSIC_NACIONAL                                                                                                                                                                                 \n network                                | VISA                                                                                                                                                                                             \n hasRewardProgram                       | true                                                                                                                                                                                             \n rewardProgramInfo                      | https://empresaa1.com/credit_cards_rewards                                                                                                                                                       \n term_minimumFeeRate                    | 0.30                                                                                                                                                                                             \n term_additionalInfo                    | NA                                                                                                                                                                                               \n term_elegibilityCriteriaInfo           | https://empresaa1.com/creditcards_elegibility_criteria                                                                                                                                           \n term_closingProcessInfo                | https://empresaa1.com/creditcards_closing_process                                                                                                                                                \n name_services                          | ANUIDADE_CARTAO_BASICO_NACIONAL                                                                                                                                                                  \n code_services                          | ANUIDADE_NACIONAL                                                                                                                                                                                \n chargingTriggerInfo_services           | Disponibilização de rede de estabelecimentos afiliados, instalada no País, para pagamentos de bens e serviços, cobrada no máximo uma vez a cada doze meses, admitido o parcelamento da cobrança. \n value_mini_services                    | 19.50                                                                                                                                                                                            \n currency__mini_services                | BRL                                                                                                                                                                                              \n value_max_services                     | 72.00                                                                                                                                                                                            \n currency_max_services                  | BRL                                                                                                                                                                                              \n referentialRateIndexer_rates           | PRE_FIXADO                                                                                                                                                                                       \n rate_rates                             | NA                                                                                                                                                                                               \n rates_minimumRate                      | 0.0845                                                                                                                                                                                           \n rates_maximumRate                      | 0.9000                                                                                                                                                                                           \n referentialRateIndexer_instalmentRates | PRE_FIXADO                                                                                                                                                                                       \n rate_instalmentRates                   | NA                                                                                                                                                                                               \n instalmentRates_minimumRate            | 0.0456                                                                                                                                                                                           \n instalmentRates_maximumRate            | 0.0865                                                                                                                                                                                           \n otherCredits                           | SAQUE_A_CREDITO                                                                                                                                                                                  \n prices_services_exploded               | [BRL, [0.3500], 2_FAIXA, 35.00]                                                                                                                                                                  \n applications_rates_exploded            | [[0.1500], [0.0987], 1_FAIXA]                                                                                                                                                                    \n applications_instalmentRates_exploded  | [[0.3000], [0.5890], 4_FAIXA]                                                                                                                                                                    \nonly showing top 20 rows\n\n"
     ]
    }
   ],
   "source": [
    "df_tratamento.show(truncate = False, vertical = True)"
   ]
  },
  {
   "cell_type": "code",
   "execution_count": 61,
   "metadata": {},
   "outputs": [],
   "source": [
    "df_tratamento = df_tratamento.selectExpr('*',\n",
    "                        'prices_services_exploded.interval as interval_prices_services',\n",
    "                        'prices_services_exploded.value as value_prices_services',\n",
    "                        'prices_services_exploded.currency as currency_prices_services',\n",
    "                        'prices_services_exploded.customers.rate as rate_customers_prices_services',\n",
    "                        'applications_rates_exploded.interval as interval_applications_rates',\n",
    "                        'applications_rates_exploded.indexer.rate as rate_indexer_applications_rates',\n",
    "                        'applications_rates_exploded.customers.rate as customers_rate_indexer_applications_rates',\n",
    "                        'applications_instalmentRates_exploded.interval as interval_applications_instalmentRates',\n",
    "                        'applications_instalmentRates_exploded.indexer.rate as rate_indexer_applications_instalmentRates',\n",
    "                        'applications_instalmentRates_exploded.customers.rate as customers_indexer_applications_instalmentRates'\n",
    "                        \n",
    "\n",
    ").drop('prices_services_exploded', 'applications_rates_exploded', 'applications_instalmentRates_exploded')"
   ]
  },
  {
   "cell_type": "code",
   "execution_count": 62,
   "metadata": {
    "tags": [
     "outputPrepend"
    ]
   },
   "outputs": [
    {
     "output_type": "stream",
     "name": "stdout",
     "text": [
      "              | 2_FAIXA                                                                                                                                                                                          \n value_prices_services                          | 35.00                                                                                                                                                                                            \n currency_prices_services                       | BRL                                                                                                                                                                                              \n rate_customers_prices_services                 | 0.3500                                                                                                                                                                                           \n interval_applications_rates                    | 1_FAIXA                                                                                                                                                                                          \n rate_indexer_applications_rates                | 0.0987                                                                                                                                                                                           \n customers_rate_indexer_applications_rates      | 0.1500                                                                                                                                                                                           \n interval_applications_instalmentRates          | 2_FAIXA                                                                                                                                                                                          \n rate_indexer_applications_instalmentRates      | 0.1600                                                                                                                                                                                           \n customers_indexer_applications_instalmentRates | 0.3500                                                                                                                                                                                           \n-RECORD 18-----------------------------------------------------------------------------------------------------------------------------------------------------------------------------------------------------------------------------------------\n companie_name                                  | Cartão Universitário                                                                                                                                                                             \n type_card                                      | CLASSIC_NACIONAL                                                                                                                                                                                 \n network                                        | VISA                                                                                                                                                                                             \n hasRewardProgram                               | true                                                                                                                                                                                             \n rewardProgramInfo                              | https://empresaa1.com/credit_cards_rewards                                                                                                                                                       \n term_minimumFeeRate                            | 0.30                                                                                                                                                                                             \n term_additionalInfo                            | NA                                                                                                                                                                                               \n term_elegibilityCriteriaInfo                   | https://empresaa1.com/creditcards_elegibility_criteria                                                                                                                                           \n term_closingProcessInfo                        | https://empresaa1.com/creditcards_closing_process                                                                                                                                                \n name_services                                  | ANUIDADE_CARTAO_BASICO_NACIONAL                                                                                                                                                                  \n code_services                                  | ANUIDADE_NACIONAL                                                                                                                                                                                \n chargingTriggerInfo_services                   | Disponibilização de rede de estabelecimentos afiliados, instalada no País, para pagamentos de bens e serviços, cobrada no máximo uma vez a cada doze meses, admitido o parcelamento da cobrança. \n value_mini_services                            | 19.50                                                                                                                                                                                            \n currency__mini_services                        | BRL                                                                                                                                                                                              \n value_max_services                             | 72.00                                                                                                                                                                                            \n currency_max_services                          | BRL                                                                                                                                                                                              \n referentialRateIndexer_rates                   | PRE_FIXADO                                                                                                                                                                                       \n rate_rates                                     | NA                                                                                                                                                                                               \n rates_minimumRate                              | 0.0845                                                                                                                                                                                           \n rates_maximumRate                              | 0.9000                                                                                                                                                                                           \n referentialRateIndexer_instalmentRates         | PRE_FIXADO                                                                                                                                                                                       \n rate_instalmentRates                           | NA                                                                                                                                                                                               \n instalmentRates_minimumRate                    | 0.0456                                                                                                                                                                                           \n instalmentRates_maximumRate                    | 0.0865                                                                                                                                                                                           \n otherCredits                                   | SAQUE_A_CREDITO                                                                                                                                                                                  \n interval_prices_services                       | 2_FAIXA                                                                                                                                                                                          \n value_prices_services                          | 35.00                                                                                                                                                                                            \n currency_prices_services                       | BRL                                                                                                                                                                                              \n rate_customers_prices_services                 | 0.3500                                                                                                                                                                                           \n interval_applications_rates                    | 1_FAIXA                                                                                                                                                                                          \n rate_indexer_applications_rates                | 0.0987                                                                                                                                                                                           \n customers_rate_indexer_applications_rates      | 0.1500                                                                                                                                                                                           \n interval_applications_instalmentRates          | 3_FAIXA                                                                                                                                                                                          \n rate_indexer_applications_instalmentRates      | 0.3600                                                                                                                                                                                           \n customers_indexer_applications_instalmentRates | 0.2000                                                                                                                                                                                           \n-RECORD 19-----------------------------------------------------------------------------------------------------------------------------------------------------------------------------------------------------------------------------------------\n companie_name                                  | Cartão Universitário                                                                                                                                                                             \n type_card                                      | CLASSIC_NACIONAL                                                                                                                                                                                 \n network                                        | VISA                                                                                                                                                                                             \n hasRewardProgram                               | true                                                                                                                                                                                             \n rewardProgramInfo                              | https://empresaa1.com/credit_cards_rewards                                                                                                                                                       \n term_minimumFeeRate                            | 0.30                                                                                                                                                                                             \n term_additionalInfo                            | NA                                                                                                                                                                                               \n term_elegibilityCriteriaInfo                   | https://empresaa1.com/creditcards_elegibility_criteria                                                                                                                                           \n term_closingProcessInfo                        | https://empresaa1.com/creditcards_closing_process                                                                                                                                                \n name_services                                  | ANUIDADE_CARTAO_BASICO_NACIONAL                                                                                                                                                                  \n code_services                                  | ANUIDADE_NACIONAL                                                                                                                                                                                \n chargingTriggerInfo_services                   | Disponibilização de rede de estabelecimentos afiliados, instalada no País, para pagamentos de bens e serviços, cobrada no máximo uma vez a cada doze meses, admitido o parcelamento da cobrança. \n value_mini_services                            | 19.50                                                                                                                                                                                            \n currency__mini_services                        | BRL                                                                                                                                                                                              \n value_max_services                             | 72.00                                                                                                                                                                                            \n currency_max_services                          | BRL                                                                                                                                                                                              \n referentialRateIndexer_rates                   | PRE_FIXADO                                                                                                                                                                                       \n rate_rates                                     | NA                                                                                                                                                                                               \n rates_minimumRate                              | 0.0845                                                                                                                                                                                           \n rates_maximumRate                              | 0.9000                                                                                                                                                                                           \n referentialRateIndexer_instalmentRates         | PRE_FIXADO                                                                                                                                                                                       \n rate_instalmentRates                           | NA                                                                                                                                                                                               \n instalmentRates_minimumRate                    | 0.0456                                                                                                                                                                                           \n instalmentRates_maximumRate                    | 0.0865                                                                                                                                                                                           \n otherCredits                                   | SAQUE_A_CREDITO                                                                                                                                                                                  \n interval_prices_services                       | 2_FAIXA                                                                                                                                                                                          \n value_prices_services                          | 35.00                                                                                                                                                                                            \n currency_prices_services                       | BRL                                                                                                                                                                                              \n rate_customers_prices_services                 | 0.3500                                                                                                                                                                                           \n interval_applications_rates                    | 1_FAIXA                                                                                                                                                                                          \n rate_indexer_applications_rates                | 0.0987                                                                                                                                                                                           \n customers_rate_indexer_applications_rates      | 0.1500                                                                                                                                                                                           \n interval_applications_instalmentRates          | 4_FAIXA                                                                                                                                                                                          \n rate_indexer_applications_instalmentRates      | 0.5890                                                                                                                                                                                           \n customers_indexer_applications_instalmentRates | 0.3000                                                                                                                                                                                           \nonly showing top 20 rows\n\n"
     ]
    }
   ],
   "source": [
    "df_tratamento.show(truncate = False, vertical = True)"
   ]
  },
  {
   "cell_type": "code",
   "execution_count": 63,
   "metadata": {},
   "outputs": [
    {
     "output_type": "execute_result",
     "data": {
      "text/plain": [
       "['companie_name',\n",
       " 'type_card',\n",
       " 'network',\n",
       " 'hasRewardProgram',\n",
       " 'rewardProgramInfo',\n",
       " 'term_minimumFeeRate',\n",
       " 'term_additionalInfo',\n",
       " 'term_elegibilityCriteriaInfo',\n",
       " 'term_closingProcessInfo',\n",
       " 'name_services',\n",
       " 'code_services',\n",
       " 'chargingTriggerInfo_services',\n",
       " 'value_mini_services',\n",
       " 'currency__mini_services',\n",
       " 'value_max_services',\n",
       " 'currency_max_services',\n",
       " 'referentialRateIndexer_rates',\n",
       " 'rate_rates',\n",
       " 'rates_minimumRate',\n",
       " 'rates_maximumRate',\n",
       " 'referentialRateIndexer_instalmentRates',\n",
       " 'rate_instalmentRates',\n",
       " 'instalmentRates_minimumRate',\n",
       " 'instalmentRates_maximumRate',\n",
       " 'otherCredits',\n",
       " 'interval_prices_services',\n",
       " 'value_prices_services',\n",
       " 'currency_prices_services',\n",
       " 'rate_customers_prices_services',\n",
       " 'interval_applications_rates',\n",
       " 'rate_indexer_applications_rates',\n",
       " 'customers_rate_indexer_applications_rates',\n",
       " 'interval_applications_instalmentRates',\n",
       " 'rate_indexer_applications_instalmentRates',\n",
       " 'customers_indexer_applications_instalmentRates']"
      ]
     },
     "metadata": {},
     "execution_count": 63
    }
   ],
   "source": [
    "df_tratamento.columns"
   ]
  },
  {
   "cell_type": "code",
   "execution_count": 64,
   "metadata": {},
   "outputs": [],
   "source": [
    "df_tratamento.repartition(1).write.option(\"header\", \"true\").option(\"sep\", \";\").option(\"encoding\", \"UTF-8\").mode('overwrite').csv('../dataset/output/Json_tratado.csv')"
   ]
  },
  {
   "source": [
    "## Criando estruturas JSON\n"
   ],
   "cell_type": "markdown",
   "metadata": {}
  },
  {
   "cell_type": "code",
   "execution_count": 65,
   "metadata": {
    "tags": [
     "outputPrepend"
    ]
   },
   "outputs": [
    {
     "output_type": "stream",
     "name": "stdout",
     "text": [
      "      | ANUIDADE_CARTAO_B... \n code_services                                  | ANUIDADE_NACIONAL    \n chargingTriggerInfo_services                   | Disponibilização ... \n value_mini_services                            | 19.50                \n currency__mini_services                        | BRL                  \n value_max_services                             | 72.00                \n currency_max_services                          | BRL                  \n referentialRateIndexer_rates                   | PRE_FIXADO           \n rate_rates                                     | NA                   \n rates_minimumRate                              | 0.0845               \n rates_maximumRate                              | 0.9000               \n referentialRateIndexer_instalmentRates         | PRE_FIXADO           \n rate_instalmentRates                           | NA                   \n instalmentRates_minimumRate                    | 0.0456               \n instalmentRates_maximumRate                    | 0.0865               \n otherCredits                                   | SAQUE_A_CREDITO      \n interval_prices_services                       | 1_FAIXA              \n value_prices_services                          | 20.00                \n currency_prices_services                       | BRL                  \n rate_customers_prices_services                 | 0.1500               \n interval_applications_rates                    | 4_FAIXA              \n rate_indexer_applications_rates                | 0.5890               \n customers_rate_indexer_applications_rates      | 0.3000               \n interval_applications_instalmentRates          | 1_FAIXA              \n rate_indexer_applications_instalmentRates      | 0.0987               \n customers_indexer_applications_instalmentRates | 0.1500               \n-RECORD 13-------------------------------------------------------------\n companie_name                                  | Cartão Universitário \n type_card                                      | CLASSIC_NACIONAL     \n network                                        | VISA                 \n hasRewardProgram                               | true                 \n rewardProgramInfo                              | https://empresaa1... \n term_minimumFeeRate                            | 0.30                 \n term_additionalInfo                            | NA                   \n term_elegibilityCriteriaInfo                   | https://empresaa1... \n term_closingProcessInfo                        | https://empresaa1... \n name_services                                  | ANUIDADE_CARTAO_B... \n code_services                                  | ANUIDADE_NACIONAL    \n chargingTriggerInfo_services                   | Disponibilização ... \n value_mini_services                            | 19.50                \n currency__mini_services                        | BRL                  \n value_max_services                             | 72.00                \n currency_max_services                          | BRL                  \n referentialRateIndexer_rates                   | PRE_FIXADO           \n rate_rates                                     | NA                   \n rates_minimumRate                              | 0.0845               \n rates_maximumRate                              | 0.9000               \n referentialRateIndexer_instalmentRates         | PRE_FIXADO           \n rate_instalmentRates                           | NA                   \n instalmentRates_minimumRate                    | 0.0456               \n instalmentRates_maximumRate                    | 0.0865               \n otherCredits                                   | SAQUE_A_CREDITO      \n interval_prices_services                       | 1_FAIXA              \n value_prices_services                          | 20.00                \n currency_prices_services                       | BRL                  \n rate_customers_prices_services                 | 0.1500               \n interval_applications_rates                    | 4_FAIXA              \n rate_indexer_applications_rates                | 0.5890               \n customers_rate_indexer_applications_rates      | 0.3000               \n interval_applications_instalmentRates          | 2_FAIXA              \n rate_indexer_applications_instalmentRates      | 0.1600               \n customers_indexer_applications_instalmentRates | 0.3500               \n-RECORD 14-------------------------------------------------------------\n companie_name                                  | Cartão Universitário \n type_card                                      | CLASSIC_NACIONAL     \n network                                        | VISA                 \n hasRewardProgram                               | true                 \n rewardProgramInfo                              | https://empresaa1... \n term_minimumFeeRate                            | 0.30                 \n term_additionalInfo                            | NA                   \n term_elegibilityCriteriaInfo                   | https://empresaa1... \n term_closingProcessInfo                        | https://empresaa1... \n name_services                                  | ANUIDADE_CARTAO_B... \n code_services                                  | ANUIDADE_NACIONAL    \n chargingTriggerInfo_services                   | Disponibilização ... \n value_mini_services                            | 19.50                \n currency__mini_services                        | BRL                  \n value_max_services                             | 72.00                \n currency_max_services                          | BRL                  \n referentialRateIndexer_rates                   | PRE_FIXADO           \n rate_rates                                     | NA                   \n rates_minimumRate                              | 0.0845               \n rates_maximumRate                              | 0.9000               \n referentialRateIndexer_instalmentRates         | PRE_FIXADO           \n rate_instalmentRates                           | NA                   \n instalmentRates_minimumRate                    | 0.0456               \n instalmentRates_maximumRate                    | 0.0865               \n otherCredits                                   | SAQUE_A_CREDITO      \n interval_prices_services                       | 1_FAIXA              \n value_prices_services                          | 20.00                \n currency_prices_services                       | BRL                  \n rate_customers_prices_services                 | 0.1500               \n interval_applications_rates                    | 4_FAIXA              \n rate_indexer_applications_rates                | 0.5890               \n customers_rate_indexer_applications_rates      | 0.3000               \n interval_applications_instalmentRates          | 3_FAIXA              \n rate_indexer_applications_instalmentRates      | 0.3600               \n customers_indexer_applications_instalmentRates | 0.2000               \n-RECORD 15-------------------------------------------------------------\n companie_name                                  | Cartão Universitário \n type_card                                      | CLASSIC_NACIONAL     \n network                                        | VISA                 \n hasRewardProgram                               | true                 \n rewardProgramInfo                              | https://empresaa1... \n term_minimumFeeRate                            | 0.30                 \n term_additionalInfo                            | NA                   \n term_elegibilityCriteriaInfo                   | https://empresaa1... \n term_closingProcessInfo                        | https://empresaa1... \n name_services                                  | ANUIDADE_CARTAO_B... \n code_services                                  | ANUIDADE_NACIONAL    \n chargingTriggerInfo_services                   | Disponibilização ... \n value_mini_services                            | 19.50                \n currency__mini_services                        | BRL                  \n value_max_services                             | 72.00                \n currency_max_services                          | BRL                  \n referentialRateIndexer_rates                   | PRE_FIXADO           \n rate_rates                                     | NA                   \n rates_minimumRate                              | 0.0845               \n rates_maximumRate                              | 0.9000               \n referentialRateIndexer_instalmentRates         | PRE_FIXADO           \n rate_instalmentRates                           | NA                   \n instalmentRates_minimumRate                    | 0.0456               \n instalmentRates_maximumRate                    | 0.0865               \n otherCredits                                   | SAQUE_A_CREDITO      \n interval_prices_services                       | 1_FAIXA              \n value_prices_services                          | 20.00                \n currency_prices_services                       | BRL                  \n rate_customers_prices_services                 | 0.1500               \n interval_applications_rates                    | 4_FAIXA              \n rate_indexer_applications_rates                | 0.5890               \n customers_rate_indexer_applications_rates      | 0.3000               \n interval_applications_instalmentRates          | 4_FAIXA              \n rate_indexer_applications_instalmentRates      | 0.5890               \n customers_indexer_applications_instalmentRates | 0.3000               \n-RECORD 16-------------------------------------------------------------\n companie_name                                  | Cartão Universitário \n type_card                                      | CLASSIC_NACIONAL     \n network                                        | VISA                 \n hasRewardProgram                               | true                 \n rewardProgramInfo                              | https://empresaa1... \n term_minimumFeeRate                            | 0.30                 \n term_additionalInfo                            | NA                   \n term_elegibilityCriteriaInfo                   | https://empresaa1... \n term_closingProcessInfo                        | https://empresaa1... \n name_services                                  | ANUIDADE_CARTAO_B... \n code_services                                  | ANUIDADE_NACIONAL    \n chargingTriggerInfo_services                   | Disponibilização ... \n value_mini_services                            | 19.50                \n currency__mini_services                        | BRL                  \n value_max_services                             | 72.00                \n currency_max_services                          | BRL                  \n referentialRateIndexer_rates                   | PRE_FIXADO           \n rate_rates                                     | NA                   \n rates_minimumRate                              | 0.0845               \n rates_maximumRate                              | 0.9000               \n referentialRateIndexer_instalmentRates         | PRE_FIXADO           \n rate_instalmentRates                           | NA                   \n instalmentRates_minimumRate                    | 0.0456               \n instalmentRates_maximumRate                    | 0.0865               \n otherCredits                                   | SAQUE_A_CREDITO      \n interval_prices_services                       | 2_FAIXA              \n value_prices_services                          | 35.00                \n currency_prices_services                       | BRL                  \n rate_customers_prices_services                 | 0.3500               \n interval_applications_rates                    | 1_FAIXA              \n rate_indexer_applications_rates                | 0.0987               \n customers_rate_indexer_applications_rates      | 0.1500               \n interval_applications_instalmentRates          | 1_FAIXA              \n rate_indexer_applications_instalmentRates      | 0.0987               \n customers_indexer_applications_instalmentRates | 0.1500               \n-RECORD 17-------------------------------------------------------------\n companie_name                                  | Cartão Universitário \n type_card                                      | CLASSIC_NACIONAL     \n network                                        | VISA                 \n hasRewardProgram                               | true                 \n rewardProgramInfo                              | https://empresaa1... \n term_minimumFeeRate                            | 0.30                 \n term_additionalInfo                            | NA                   \n term_elegibilityCriteriaInfo                   | https://empresaa1... \n term_closingProcessInfo                        | https://empresaa1... \n name_services                                  | ANUIDADE_CARTAO_B... \n code_services                                  | ANUIDADE_NACIONAL    \n chargingTriggerInfo_services                   | Disponibilização ... \n value_mini_services                            | 19.50                \n currency__mini_services                        | BRL                  \n value_max_services                             | 72.00                \n currency_max_services                          | BRL                  \n referentialRateIndexer_rates                   | PRE_FIXADO           \n rate_rates                                     | NA                   \n rates_minimumRate                              | 0.0845               \n rates_maximumRate                              | 0.9000               \n referentialRateIndexer_instalmentRates         | PRE_FIXADO           \n rate_instalmentRates                           | NA                   \n instalmentRates_minimumRate                    | 0.0456               \n instalmentRates_maximumRate                    | 0.0865               \n otherCredits                                   | SAQUE_A_CREDITO      \n interval_prices_services                       | 2_FAIXA              \n value_prices_services                          | 35.00                \n currency_prices_services                       | BRL                  \n rate_customers_prices_services                 | 0.3500               \n interval_applications_rates                    | 1_FAIXA              \n rate_indexer_applications_rates                | 0.0987               \n customers_rate_indexer_applications_rates      | 0.1500               \n interval_applications_instalmentRates          | 2_FAIXA              \n rate_indexer_applications_instalmentRates      | 0.1600               \n customers_indexer_applications_instalmentRates | 0.3500               \n-RECORD 18-------------------------------------------------------------\n companie_name                                  | Cartão Universitário \n type_card                                      | CLASSIC_NACIONAL     \n network                                        | VISA                 \n hasRewardProgram                               | true                 \n rewardProgramInfo                              | https://empresaa1... \n term_minimumFeeRate                            | 0.30                 \n term_additionalInfo                            | NA                   \n term_elegibilityCriteriaInfo                   | https://empresaa1... \n term_closingProcessInfo                        | https://empresaa1... \n name_services                                  | ANUIDADE_CARTAO_B... \n code_services                                  | ANUIDADE_NACIONAL    \n chargingTriggerInfo_services                   | Disponibilização ... \n value_mini_services                            | 19.50                \n currency__mini_services                        | BRL                  \n value_max_services                             | 72.00                \n currency_max_services                          | BRL                  \n referentialRateIndexer_rates                   | PRE_FIXADO           \n rate_rates                                     | NA                   \n rates_minimumRate                              | 0.0845               \n rates_maximumRate                              | 0.9000               \n referentialRateIndexer_instalmentRates         | PRE_FIXADO           \n rate_instalmentRates                           | NA                   \n instalmentRates_minimumRate                    | 0.0456               \n instalmentRates_maximumRate                    | 0.0865               \n otherCredits                                   | SAQUE_A_CREDITO      \n interval_prices_services                       | 2_FAIXA              \n value_prices_services                          | 35.00                \n currency_prices_services                       | BRL                  \n rate_customers_prices_services                 | 0.3500               \n interval_applications_rates                    | 1_FAIXA              \n rate_indexer_applications_rates                | 0.0987               \n customers_rate_indexer_applications_rates      | 0.1500               \n interval_applications_instalmentRates          | 3_FAIXA              \n rate_indexer_applications_instalmentRates      | 0.3600               \n customers_indexer_applications_instalmentRates | 0.2000               \n-RECORD 19-------------------------------------------------------------\n companie_name                                  | Cartão Universitário \n type_card                                      | CLASSIC_NACIONAL     \n network                                        | VISA                 \n hasRewardProgram                               | true                 \n rewardProgramInfo                              | https://empresaa1... \n term_minimumFeeRate                            | 0.30                 \n term_additionalInfo                            | NA                   \n term_elegibilityCriteriaInfo                   | https://empresaa1... \n term_closingProcessInfo                        | https://empresaa1... \n name_services                                  | ANUIDADE_CARTAO_B... \n code_services                                  | ANUIDADE_NACIONAL    \n chargingTriggerInfo_services                   | Disponibilização ... \n value_mini_services                            | 19.50                \n currency__mini_services                        | BRL                  \n value_max_services                             | 72.00                \n currency_max_services                          | BRL                  \n referentialRateIndexer_rates                   | PRE_FIXADO           \n rate_rates                                     | NA                   \n rates_minimumRate                              | 0.0845               \n rates_maximumRate                              | 0.9000               \n referentialRateIndexer_instalmentRates         | PRE_FIXADO           \n rate_instalmentRates                           | NA                   \n instalmentRates_minimumRate                    | 0.0456               \n instalmentRates_maximumRate                    | 0.0865               \n otherCredits                                   | SAQUE_A_CREDITO      \n interval_prices_services                       | 2_FAIXA              \n value_prices_services                          | 35.00                \n currency_prices_services                       | BRL                  \n rate_customers_prices_services                 | 0.3500               \n interval_applications_rates                    | 1_FAIXA              \n rate_indexer_applications_rates                | 0.0987               \n customers_rate_indexer_applications_rates      | 0.1500               \n interval_applications_instalmentRates          | 4_FAIXA              \n rate_indexer_applications_instalmentRates      | 0.5890               \n customers_indexer_applications_instalmentRates | 0.3000               \nonly showing top 20 rows\n\n"
     ]
    }
   ],
   "source": [
    "df_tratamento.show(vertical = True)"
   ]
  },
  {
   "cell_type": "code",
   "execution_count": 66,
   "metadata": {},
   "outputs": [
    {
     "output_type": "execute_result",
     "data": {
      "text/plain": [
       "['companie_name',\n",
       " 'type_card',\n",
       " 'network',\n",
       " 'hasRewardProgram',\n",
       " 'rewardProgramInfo',\n",
       " 'term_minimumFeeRate',\n",
       " 'term_additionalInfo',\n",
       " 'term_elegibilityCriteriaInfo',\n",
       " 'term_closingProcessInfo',\n",
       " 'name_services',\n",
       " 'code_services',\n",
       " 'chargingTriggerInfo_services',\n",
       " 'value_mini_services',\n",
       " 'currency__mini_services',\n",
       " 'value_max_services',\n",
       " 'currency_max_services',\n",
       " 'referentialRateIndexer_rates',\n",
       " 'rate_rates',\n",
       " 'rates_minimumRate',\n",
       " 'rates_maximumRate',\n",
       " 'referentialRateIndexer_instalmentRates',\n",
       " 'rate_instalmentRates',\n",
       " 'instalmentRates_minimumRate',\n",
       " 'instalmentRates_maximumRate',\n",
       " 'otherCredits',\n",
       " 'interval_prices_services',\n",
       " 'value_prices_services',\n",
       " 'currency_prices_services',\n",
       " 'rate_customers_prices_services',\n",
       " 'interval_applications_rates',\n",
       " 'rate_indexer_applications_rates',\n",
       " 'customers_rate_indexer_applications_rates',\n",
       " 'interval_applications_instalmentRates',\n",
       " 'rate_indexer_applications_instalmentRates',\n",
       " 'customers_indexer_applications_instalmentRates']"
      ]
     },
     "metadata": {},
     "execution_count": 66
    }
   ],
   "source": [
    "df_tratamento.columns"
   ]
  },
  {
   "cell_type": "code",
   "execution_count": 67,
   "metadata": {},
   "outputs": [],
   "source": [
    "df_tratamento = df_tratamento.groupBy('companie_name',\n",
    " 'type_card',\n",
    " 'network',\n",
    " 'hasRewardProgram',\n",
    " 'rewardProgramInfo',\n",
    " 'term_minimumFeeRate',\n",
    " 'term_additionalInfo',\n",
    " 'term_elegibilityCriteriaInfo',\n",
    " 'term_closingProcessInfo',\n",
    " 'name_services',\n",
    " 'code_services',\n",
    " 'chargingTriggerInfo_services',\n",
    " 'value_mini_services',\n",
    " 'currency__mini_services',\n",
    " 'value_max_services',\n",
    " 'currency_max_services').agg(F.struct('code_services', 'chargingTriggerInfo_services', 'value_mini_services', 'currency__mini_services', 'value_max_services', 'currency_max_services').alias('code_struct'))\n",
    "\n"
   ]
  },
  {
   "cell_type": "code",
   "execution_count": 68,
   "metadata": {},
   "outputs": [
    {
     "output_type": "execute_result",
     "data": {
      "text/plain": [
       "['companie_name',\n",
       " 'type_card',\n",
       " 'network',\n",
       " 'hasRewardProgram',\n",
       " 'rewardProgramInfo',\n",
       " 'term_minimumFeeRate',\n",
       " 'term_additionalInfo',\n",
       " 'term_elegibilityCriteriaInfo',\n",
       " 'term_closingProcessInfo',\n",
       " 'name_services',\n",
       " 'code_services',\n",
       " 'chargingTriggerInfo_services',\n",
       " 'value_mini_services',\n",
       " 'currency__mini_services',\n",
       " 'value_max_services',\n",
       " 'currency_max_services',\n",
       " 'code_struct']"
      ]
     },
     "metadata": {},
     "execution_count": 68
    }
   ],
   "source": [
    "df_tratamento.columns"
   ]
  },
  {
   "cell_type": "code",
   "execution_count": 69,
   "metadata": {},
   "outputs": [],
   "source": [
    "df_tratamento.select('code_struct').repartition(1).write.option(\"encoding\", \"UTF-8\").mode('overwrite').json('../dataset/output/Json_tratado_saida.json')"
   ]
  },
  {
   "cell_type": "code",
   "execution_count": 70,
   "metadata": {},
   "outputs": [],
   "source": [
    "df_tratamento = df_tratamento.groupBy('companie_name',\n",
    " 'type_card',\n",
    " 'network',\n",
    " 'hasRewardProgram',\n",
    " 'rewardProgramInfo',\n",
    " 'term_minimumFeeRate',\n",
    " 'term_additionalInfo',\n",
    " 'term_elegibilityCriteriaInfo',\n",
    " 'term_closingProcessInfo').agg(F.collect_list(F.struct('code_services', 'chargingTriggerInfo_services', 'value_mini_services', 'currency__mini_services', 'value_max_services', 'currency_max_services').alias('code_struct')).alias('services'))"
   ]
  },
  {
   "cell_type": "code",
   "execution_count": 73,
   "metadata": {},
   "outputs": [
    {
     "output_type": "stream",
     "name": "stdout",
     "text": [
      "root\n |-- companie_name: string (nullable = true)\n |-- type_card: string (nullable = true)\n |-- network: string (nullable = true)\n |-- hasRewardProgram: boolean (nullable = true)\n |-- rewardProgramInfo: string (nullable = true)\n |-- term_minimumFeeRate: string (nullable = true)\n |-- term_additionalInfo: string (nullable = true)\n |-- term_elegibilityCriteriaInfo: string (nullable = true)\n |-- term_closingProcessInfo: string (nullable = true)\n |-- services: array (nullable = true)\n |    |-- element: struct (containsNull = false)\n |    |    |-- code_services: string (nullable = true)\n |    |    |-- chargingTriggerInfo_services: string (nullable = true)\n |    |    |-- value_mini_services: string (nullable = true)\n |    |    |-- currency__mini_services: string (nullable = true)\n |    |    |-- value_max_services: string (nullable = true)\n |    |    |-- currency_max_services: string (nullable = true)\n\n"
     ]
    }
   ],
   "source": [
    "df_tratamento.printSchema()"
   ]
  },
  {
   "cell_type": "code",
   "execution_count": 74,
   "metadata": {},
   "outputs": [],
   "source": [
    "df_tratamento.select('services').repartition(1).write.option(\"encoding\", \"UTF-8\").mode('overwrite').json('../dataset/output/Json_lista.json')"
   ]
  }
 ]
}